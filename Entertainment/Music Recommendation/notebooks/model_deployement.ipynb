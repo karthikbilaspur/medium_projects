{
 "cells": [
  {
   "cell_type": "code",
   "execution_count": null,
   "metadata": {
    "vscode": {
     "languageId": "plaintext"
    }
   },
   "outputs": [],
   "source": [
    "Cell 1: Model Deployment\n",
    "Python\n",
    "from flask import Flask, request, jsonify\n",
    "from sklearn.externals import joblib\n",
    "\n",
    "app = Flask(__name__)\n",
    "\n",
    "# Load trained model\n",
    "rf = joblib.load('model.pkl')\n",
    "\n",
    "# Define API endpoint\n",
    "@app.route('/predict', methods=['POST'])\n",
    "def predict():\n",
    "    data = request.get_json()\n",
    "    prediction = rf.predict(data['lyrics'])\n",
    "    return jsonify({'genre': prediction[0]})\n",
    "\n",
    "if __name__ == '__main__':\n",
    "    app.run(debug=True)\n"
   ]
  },
  {
   "cell_type": "code",
   "execution_count": null,
   "metadata": {
    "vscode": {
     "languageId": "plaintext"
    }
   },
   "outputs": [],
   "source": [
    "Cell 2: User Interface\n",
    "Python\n",
    "import streamlit as st\n",
    "\n",
    "# Create Streamlit app\n",
    "st.title('Music Genre Classifier')\n",
    "\n",
    "# Define input form\n",
    "lyrics = st.text_area('Enter song lyrics')\n",
    "\n",
    "# Define prediction button\n",
    "if st.button('Classify'):\n",
    "    # Make API call to deployed model\n",
    "    response = requests.post('http://localhost:5000/predict', json={'lyrics': lyrics})\n",
    "    # Display predicted genre\n",
    "    st.write('Predicted Genre:', response.json()['genre'])\n"
   ]
  },
  {
   "cell_type": "code",
   "execution_count": null,
   "metadata": {
    "vscode": {
     "languageId": "plaintext"
    }
   },
   "outputs": [],
   "source": [
    "Cell 3: Testing and Evaluation\n",
    "Python\n",
    "# Test deployed model\n",
    "test_lyrics = ['Happy lyrics']\n",
    "response = requests.post('http://localhost:5000/predict', json={'lyrics': test_lyrics})\n",
    "print('Predicted Genre:', response.json()['genre'])\n",
    "\n",
    "# Evaluate deployed model\n",
    "y_pred = rf.predict(X_test)\n",
    "print('Accuracy:', accuracy_score(y_test, y_pred))\n"
   ]
  }
 ],
 "metadata": {
  "language_info": {
   "name": "python"
  }
 },
 "nbformat": 4,
 "nbformat_minor": 2
}
