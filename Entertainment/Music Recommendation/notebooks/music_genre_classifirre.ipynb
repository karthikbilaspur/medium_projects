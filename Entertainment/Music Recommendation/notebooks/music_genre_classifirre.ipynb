{
 "cells": [
  {
   "cell_type": "markdown",
   "metadata": {
    "vscode": {
     "languageId": "plaintext"
    }
   },
   "source": [
    "# Music Genre Classifier\n",
    "\n",
    "\n",
    "## Import Libraries\n",
    "\n",
    "\n",
    "```python\n",
    "import pandas as pd\n",
    "import numpy as np\n",
    "from sklearn.ensemble import RandomForestClassifier\n",
    "from sklearn.metrics import accuracy_score\n",
    "import spotipy\n",
    "from spotipy.oauth2 import SpotifyClientCredentials\n",
    "import langdetect\n",
    "from googletrans import Translator\n",
    "import nltk\n",
    "from nltk.sentiment import SentimentIntensityAnalyzer\n",
    "from spaCy import displacy"
   ]
  },
  {
   "cell_type": "code",
   "execution_count": null,
   "metadata": {
    "vscode": {
     "languageId": "plaintext"
    }
   },
   "outputs": [],
   "source": [
    "# Load song data from CSV file\n",
    "song_data = pd.read_csv('song_data.csv')\n",
    "\n",
    "# View the first few rows of the data\n",
    "print(song_data.head())\n",
    "\n",
    "# Song data columns:\n",
    "# - song_id\n",
    "# - song_name\n",
    "# - artist\n",
    "# - genre\n",
    "# - lyrics\n",
    "\n",
    "song_data = {\n",
    "    'song_id': [1, 2, 3, 4, 5],\n",
    "    'song_name': ['Happy', 'Uptown Funk', 'Can\\'t Stop the Feeling!', 'We Found Love', 'SexyBack'],\n",
    "    'artist': ['Pharrell Williams', 'Mark Ronson ft. Bruno Mars', 'Justin Timberlake', 'Rihanna ft. Calvin Harris', 'Justin Timberlake'],\n",
    "    'genre': ['Pop', 'Funk', 'Pop', 'Electronic', 'Pop'],\n",
    "    'lyrics': ['...happy lyrics...', '...uptown funk lyrics...', '...can\\'t stop the feeling! lyrics...', '...we found love lyrics...', '...sexyback lyrics...']\n",
    "}"
   ]
  },
  {
   "cell_type": "code",
   "execution_count": null,
   "metadata": {
    "vscode": {
     "languageId": "plaintext"
    }
   },
   "outputs": [],
   "source": [
    "# Define a function to detect the language of a song's lyrics\n",
    "def detect_language(lyrics):\n",
    "    return langdetect.detect(lyrics)\n",
    "\n",
    "# Apply the function to the song data\n",
    "song_data['language'] = song_data['lyrics'].apply(detect_language)\n",
    "\n",
    "print(song_data.head())"
   ]
  },
  {
   "cell_type": "code",
   "execution_count": null,
   "metadata": {
    "vscode": {
     "languageId": "plaintext"
    }
   },
   "outputs": [],
   "source": [
    "Cell 4: Emotion Detection\n",
    "Python\n",
    "# Define a function to detect the emotions in a song's lyrics\n",
    "def detect_emotions(lyrics):\n",
    "    sia = SentimentIntensityAnalyzer()\n",
    "    sentiment = sia.polarity_scores(lyrics)\n",
    "    if sentiment['compound'] > 0.5:\n",
    "        return 'Happy'\n",
    "    elif sentiment['compound'] < -0.5:\n",
    "        return 'Sad'\n",
    "    else:\n",
    "        return 'Neutral'\n",
    "\n",
    "# Apply the function to the song data\n",
    "song_data['emotions'] = song_data['lyrics'].apply(detect_emotions)\n",
    "\n",
    "print(song_data.head())\n"
   ]
  },
  {
   "cell_type": "code",
   "execution_count": null,
   "metadata": {
    "vscode": {
     "languageId": "plaintext"
    }
   },
   "outputs": [],
   "source": [
    "Cell 5: Genre Classification\n",
    "Python\n",
    "# Train a random forest classifier to predict genres\n",
    "from sklearn.ensemble import RandomForestClassifier\n",
    "from sklearn.model_selection import train_test_split\n",
    "\n",
    "X = song_data.drop(['genre', 'song_id', 'lyrics'], axis=1)\n",
    "y = song_data['genre']\n",
    "\n",
    "X_train, X_test, y_train, y_test = train_test_split(X, y, test_size=0.2, random_state=42)\n",
    "\n",
    "rf = RandomForestClassifier(n_estimators=100)\n",
    "rf.fit(X_train, y_train)\n",
    "\n",
    "y_pred = rf.predict(X_test)\n",
    "\n",
    "print(\"Accuracy:\", accuracy_score(y_test, y_pred))\n"
   ]
  },
  {
   "cell_type": "code",
   "execution_count": null,
   "metadata": {
    "vscode": {
     "languageId": "plaintext"
    }
   },
   "outputs": [],
   "source": [
    "Cell 6: Model Training\n",
    "\n",
    "# Train the model using the training data\n",
    "rf.fit(X_train, y_train)"
   ]
  },
  {
   "cell_type": "code",
   "execution_count": null,
   "metadata": {
    "vscode": {
     "languageId": "plaintext"
    }
   },
   "outputs": [],
   "source": [
    "Cell 7: Model Evaluation\n",
    "Python\n",
    "# Evaluate the model using accuracy score and other metrics\n",
    "from sklearn.metrics import accuracy_score, classification_report, confusion_matrix\n",
    "\n",
    "y_pred = rf.predict(X_test)\n",
    "\n",
    "print(\"Accuracy:\", accuracy_score(y_test, y_pred))\n",
    "print(\"Classification Report:\")\n",
    "print(classification_report(y_test, y_pred))\n",
    "print(\"Confusion Matrix:\")\n",
    "print(confusion_matrix(y_test, y_pred))\n"
   ]
  },
  {
   "cell_type": "code",
   "execution_count": null,
   "metadata": {
    "vscode": {
     "languageId": "plaintext"
    }
   },
   "outputs": [],
   "source": [
    "Cell 8: API Integration\n",
    "Python\n",
    "# Use the Spotify API to retrieve song features\n",
    "import spotipy\n",
    "from spotipy.oauth2 import SpotifyClientCredentials\n",
    "\n",
    "client_id = 'YOUR_CLIENT_ID'\n",
    "client_secret = 'YOUR_CLIENT_SECRET'\n",
    "client_credentials_manager = SpotifyClientCredentials(client_id, client_secret)\n",
    "sp = spotipy.Spotify(client_credentials_manager=client_credentials_manager)\n",
    "\n",
    "def get_song_features(song_name):\n",
    "    results = sp.search(q=song_name, type='track')\n",
    "    track_id = results['tracks']['items'][0]['id']\n",
    "    features = sp.audio_features(track_id)\n",
    "    return features\n",
    "\n",
    "# Test the function\n",
    "song_name = 'Happy'\n",
    "features = get_song_features(song_name)\n"
   ]
  },
  {
   "cell_type": "code",
   "execution_count": null,
   "metadata": {
    "vscode": {
     "languageId": "plaintext"
    }
   },
   "outputs": [],
   "source": [
    "Cell 9  \n",
    "# Function to translate text\n",
    "def translate_text(text, language):\n",
    "    translator = Translator()\n",
    "    return translator.translate(text, dest=language).text"
   ]
  },
  {
   "cell_type": "code",
   "execution_count": null,
   "metadata": {
    "vscode": {
     "languageId": "plaintext"
    }
   },
   "outputs": [],
   "source": [
    "Cell 10 \n",
    "# Function to provide recommendations\n",
    "def provide_recommendations(user_id):\n",
    "    user_profile = pd.read_csv(f'user_{user_id}.csv')\n",
    "    user_preferences = user_profile['genre']\n",
    "    recommended_songs = []\n",
    "    for genre in user_preferences:\n",
    "        songs = sp.search(q=genre, type='track')\n",
    "        recommended_songs.extend(songs['tracks']['items'])\n",
    "    return recommended_songs"
   ]
  },
  {
   "cell_type": "code",
   "execution_count": null,
   "metadata": {
    "vscode": {
     "languageId": "plaintext"
    }
   },
   "outputs": [],
   "source": [
    "# Main function\n",
    "def main():\n",
    "    user_input = input('Enter a song name or artist: ')\n",
    "    language = detect_language(user_input)\n",
    "    translated_input = translate_text(user_input, 'English')\n",
    "    emotion = detect_emotions(translated_input)\n",
    "    genre = model.predict([translated_input])[0]\n",
    "    recommended_songs = provide_recommendations('user_1')\n",
    "    print(f'Language: {language}')\n",
    "    print(f'Emotion: {emotion}')\n",
    "    print(f'Genre: {genre}')\n",
    "    print('Recommended Songs:')\n",
    "    for song in recommended_songs:\n",
    "        print(song['name'])"
   ]
  }
 ],
 "metadata": {
  "language_info": {
   "name": "python"
  }
 },
 "nbformat": 4,
 "nbformat_minor": 2
}
