{
 "cells": [
  {
   "cell_type": "code",
   "execution_count": null,
   "metadata": {
    "vscode": {
     "languageId": "plaintext"
    }
   },
   "outputs": [],
   "source": [
    "Cell 1: Data Visualization\n",
    "Python\n",
    "import matplotlib.pyplot as plt\n",
    "import seaborn as sns\n",
    "\n",
    "# Visualize genre distribution\n",
    "plt.figure(figsize=(8,6))\n",
    "sns.countplot(x='genre', data=song_data)\n",
    "plt.title('Genre Distribution')\n",
    "plt.show()\n",
    "\n",
    "# Visualize emotion distribution\n",
    "plt.figure(figsize=(8,6))\n",
    "sns.countplot(x='emotions', data=song_data)\n",
    "plt.title('Emotion Distribution')\n",
    "plt.show()\n"
   ]
  },
  {
   "cell_type": "code",
   "execution_count": null,
   "metadata": {
    "vscode": {
     "languageId": "plaintext"
    }
   },
   "outputs": [],
   "source": [
    "Cell 2: Hyperparameter Tuning\n",
    "Python\n",
    "from sklearn.model_selection import GridSearchCV\n",
    "\n",
    "# Define hyperparameter grid\n",
    "param_grid = {\n",
    "    'n_estimators': [100, 200, 300],\n",
    "    'max_depth': [None, 5, 10],\n",
    "    'min_samples_split': [2, 5, 10]\n",
    "}\n",
    "\n",
    "# Perform grid search\n",
    "grid_search = GridSearchCV(RandomForestClassifier(), param_grid, cv=5)\n",
    "grid_search.fit(X_train, y_train)\n",
    "\n",
    "# Print best hyperparameters\n",
    "print(\"Best Hyperparameters:\", grid_search.best_params_)\n"
   ]
  },
  {
   "cell_type": "code",
   "execution_count": null,
   "metadata": {
    "vscode": {
     "languageId": "plaintext"
    }
   },
   "outputs": [],
   "source": [
    "Cell 3: Feature Engineering\n",
    "Python\n",
    "from sklearn.feature_extraction.text import TfidfVectorizer\n",
    "\n",
    "# Create TF-IDF vectorizer\n",
    "vectorizer = TfidfVectorizer(stop_words='english')\n",
    "\n",
    "# Fit vectorizer to lyrics data\n",
    "X_lyrics = vectorizer.fit_transform(song_data['lyrics'])\n",
    "\n",
    "# Concatenate TF-IDF features with existing features\n",
    "X = np.concatenate((X, X_lyrics), axis=1)\n"
   ]
  },
  {
   "cell_type": "code",
   "execution_count": null,
   "metadata": {
    "vscode": {
     "languageId": "plaintext"
    }
   },
   "outputs": [],
   "source": [
    "Cell 4: Model Refining\n",
    "Python\n",
    "# Retrain model with refined features and hyperparameters\n",
    "rf = RandomForestClassifier(**grid_search.best_params_)\n",
    "rf.fit(X_train, y_train)\n",
    "\n"
   ]
  }
 ],
 "metadata": {
  "language_info": {
   "name": "python"
  }
 },
 "nbformat": 4,
 "nbformat_minor": 2
}
